{
 "cells": [
  {
   "cell_type": "code",
   "execution_count": 14,
   "metadata": {},
   "outputs": [],
   "source": [
    "numberList = []\n",
    "with open('day_06_input.txt') as file:\n",
    "    for line in file:\n",
    "        splittedLine = line.split(',')\n",
    "        for element in splittedLine:\n",
    "            numberList.append(int(element))"
   ]
  },
  {
   "cell_type": "code",
   "execution_count": 15,
   "metadata": {},
   "outputs": [],
   "source": [
    "for i in range(80):\n",
    "    repr = 0\n",
    "    for f, fish in enumerate( numberList):\n",
    "        if fish == 0:\n",
    "            numberList[f] = 6\n",
    "            repr += 1\n",
    "        else:\n",
    "            numberList[f] -= 1\n",
    "    for j in range(repr):\n",
    "        numberList.append(8)"
   ]
  },
  {
   "cell_type": "markdown",
   "metadata": {},
   "source": [
    "Dla 256 poddałam się po 47m 55.6s :(("
   ]
  },
  {
   "cell_type": "code",
   "execution_count": 16,
   "metadata": {},
   "outputs": [
    {
     "data": {
      "text/plain": [
       "388419"
      ]
     },
     "execution_count": 16,
     "metadata": {},
     "output_type": "execute_result"
    }
   ],
   "source": [
    "len(numberList)"
   ]
  },
  {
   "cell_type": "markdown",
   "metadata": {},
   "source": [
    "388419"
   ]
  },
  {
   "cell_type": "markdown",
   "metadata": {},
   "source": [
    "## Part 2"
   ]
  },
  {
   "cell_type": "code",
   "execution_count": 17,
   "metadata": {},
   "outputs": [
    {
     "data": {
      "text/plain": [
       "[0, 197, 28, 26, 30, 19, 0, 0, 0]"
      ]
     },
     "execution_count": 17,
     "metadata": {},
     "output_type": "execute_result"
    }
   ],
   "source": [
    "numberList = [0, 0, 0, 0, 0, 0, 0, 0, 0]\n",
    "with open('day_06_input.txt') as file:\n",
    "    for line in file:\n",
    "        splittedLine = line.split(',')\n",
    "        for element in splittedLine:\n",
    "            numberList[int(element)] += 1\n",
    "numberList"
   ]
  },
  {
   "cell_type": "code",
   "execution_count": 18,
   "metadata": {},
   "outputs": [
    {
     "data": {
      "text/plain": [
       "1740449478328"
      ]
     },
     "execution_count": 18,
     "metadata": {},
     "output_type": "execute_result"
    }
   ],
   "source": [
    "for i in range(256):\n",
    "    zeroes = numberList.pop(0)\n",
    "    numberList[6] += zeroes\n",
    "    numberList.append(zeroes)\n",
    "sum(numberList)"
   ]
  },
  {
   "cell_type": "markdown",
   "metadata": {},
   "source": [
    "1740449478328"
   ]
  }
 ],
 "metadata": {
  "interpreter": {
   "hash": "bfd562c7bc66dfe1ea85e22e11550e6a492f8a869e34bf42c217f167996a9a3b"
  },
  "kernelspec": {
   "display_name": "Python 3.8.6 64-bit",
   "language": "python",
   "name": "python3"
  },
  "language_info": {
   "codemirror_mode": {
    "name": "ipython",
    "version": 3
   },
   "file_extension": ".py",
   "mimetype": "text/x-python",
   "name": "python",
   "nbconvert_exporter": "python",
   "pygments_lexer": "ipython3",
   "version": "3.8.6"
  },
  "orig_nbformat": 4
 },
 "nbformat": 4,
 "nbformat_minor": 2
}
