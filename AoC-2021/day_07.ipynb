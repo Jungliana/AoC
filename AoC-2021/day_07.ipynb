{
 "cells": [
  {
   "cell_type": "code",
   "execution_count": 25,
   "metadata": {},
   "outputs": [],
   "source": [
    "numberList = []\n",
    "with open('day_07_input.txt') as file:\n",
    "    for line in file:\n",
    "        splittedLine = line.split(',')\n",
    "        for element in splittedLine:\n",
    "            numberList.append(int(element))"
   ]
  },
  {
   "cell_type": "code",
   "execution_count": 26,
   "metadata": {},
   "outputs": [],
   "source": [
    "minFuel = 10000000"
   ]
  },
  {
   "cell_type": "code",
   "execution_count": 27,
   "metadata": {},
   "outputs": [],
   "source": [
    "for crab in numberList:\n",
    "    fuel = 0\n",
    "    for anotherCrab in numberList:\n",
    "        fuel += abs(crab-anotherCrab)\n",
    "    if fuel < minFuel:\n",
    "        minFuel = fuel"
   ]
  },
  {
   "cell_type": "code",
   "execution_count": 28,
   "metadata": {},
   "outputs": [
    {
     "data": {
      "text/plain": [
       "355764"
      ]
     },
     "execution_count": 28,
     "metadata": {},
     "output_type": "execute_result"
    }
   ],
   "source": [
    "minFuel"
   ]
  },
  {
   "cell_type": "markdown",
   "metadata": {},
   "source": [
    "## Part 2"
   ]
  },
  {
   "cell_type": "code",
   "execution_count": 29,
   "metadata": {},
   "outputs": [],
   "source": [
    "def Slabnia(i):\n",
    "    slabniaSum = 0\n",
    "    for j in range(i+1):\n",
    "        slabniaSum += j\n",
    "    return slabniaSum"
   ]
  },
  {
   "cell_type": "code",
   "execution_count": 30,
   "metadata": {},
   "outputs": [
    {
     "data": {
      "text/plain": [
       "99634572"
      ]
     },
     "execution_count": 30,
     "metadata": {},
     "output_type": "execute_result"
    }
   ],
   "source": [
    "minFuel = 1000000000000\n",
    "for crab in numberList:\n",
    "    fuel = 0\n",
    "    for anotherCrab in numberList:\n",
    "        fuel += Slabnia(abs(crab-anotherCrab))\n",
    "    if fuel < minFuel:\n",
    "        minFuel = fuel\n",
    "minFuel"
   ]
  }
 ],
 "metadata": {
  "interpreter": {
   "hash": "bfd562c7bc66dfe1ea85e22e11550e6a492f8a869e34bf42c217f167996a9a3b"
  },
  "kernelspec": {
   "display_name": "Python 3.8.6 64-bit",
   "language": "python",
   "name": "python3"
  },
  "language_info": {
   "codemirror_mode": {
    "name": "ipython",
    "version": 3
   },
   "file_extension": ".py",
   "mimetype": "text/x-python",
   "name": "python",
   "nbconvert_exporter": "python",
   "pygments_lexer": "ipython3",
   "version": "3.8.6"
  },
  "orig_nbformat": 4
 },
 "nbformat": 4,
 "nbformat_minor": 2
}
