{
 "cells": [
  {
   "cell_type": "markdown",
   "metadata": {},
   "source": [
    "## Part 1"
   ]
  },
  {
   "cell_type": "code",
   "execution_count": 40,
   "metadata": {},
   "outputs": [],
   "source": [
    "parentheses = {\n",
    "')': '(',\n",
    "']': '[',\n",
    "'}': '{',\n",
    "'>': '<'\n",
    "}\n",
    "\n",
    "scores = {\n",
    "')': 3,\n",
    "']': 57,\n",
    "'}': 1197,\n",
    "'>': 25137\n",
    "}"
   ]
  },
  {
   "cell_type": "code",
   "execution_count": 41,
   "metadata": {},
   "outputs": [
    {
     "data": {
      "text/plain": [
       "323613"
      ]
     },
     "execution_count": 41,
     "metadata": {},
     "output_type": "execute_result"
    }
   ],
   "source": [
    "with open('day_10_input') as file:\n",
    "    score = 0\n",
    "    for line in file:\n",
    "        line = line.rstrip('\\n')\n",
    "        chunks  = []\n",
    "        for item in line:\n",
    "            if item in ('(', '[', '{', '<'):\n",
    "                chunks.append(item)\n",
    "            else:\n",
    "                current_left = chunks.pop(-1)\n",
    "                if current_left != parentheses[item]:\n",
    "                    score += scores[item]\n",
    "score\n"
   ]
  },
  {
   "cell_type": "markdown",
   "metadata": {},
   "source": [
    "## Part 2"
   ]
  },
  {
   "cell_type": "code",
   "execution_count": 42,
   "metadata": {},
   "outputs": [],
   "source": [
    "scores = {\n",
    "')': 1,\n",
    "']': 2,\n",
    "'}': 3,\n",
    "'>': 4\n",
    "}\n",
    "\n",
    "reverse = {\n",
    "'(': ')',\n",
    "'[': ']',\n",
    "'{': '}',\n",
    "'<': '>'\n",
    "}"
   ]
  },
  {
   "cell_type": "code",
   "execution_count": 43,
   "metadata": {},
   "outputs": [
    {
     "data": {
      "text/plain": [
       "3103006161"
      ]
     },
     "execution_count": 43,
     "metadata": {},
     "output_type": "execute_result"
    }
   ],
   "source": [
    "list_of_scores = []\n",
    "with open('day_10_input') as file:\n",
    "    for line in file:\n",
    "        invalid = False\n",
    "        line = line.rstrip('\\n')\n",
    "        chunks  = []\n",
    "        for item in line:\n",
    "            if item in ('(', '[', '{', '<'):\n",
    "                chunks.append(item)\n",
    "            else:\n",
    "                current_left = chunks.pop(-1)\n",
    "                if current_left != parentheses[item]:\n",
    "                    invalid = True\n",
    "                    break\n",
    "        if not invalid:\n",
    "            score = 0\n",
    "            for i in range(len(chunks)-1, -1, -1):\n",
    "                score *= 5 \n",
    "                score += scores[reverse[chunks[i]]]\n",
    "            list_of_scores.append(score)\n",
    "\n",
    "sorted(list_of_scores)[round(len(list_of_scores)/2)]"
   ]
  }
 ],
 "metadata": {
  "interpreter": {
   "hash": "bfd562c7bc66dfe1ea85e22e11550e6a492f8a869e34bf42c217f167996a9a3b"
  },
  "kernelspec": {
   "display_name": "Python 3.8.6 64-bit",
   "language": "python",
   "name": "python3"
  },
  "language_info": {
   "codemirror_mode": {
    "name": "ipython",
    "version": 3
   },
   "file_extension": ".py",
   "mimetype": "text/x-python",
   "name": "python",
   "nbconvert_exporter": "python",
   "pygments_lexer": "ipython3",
   "version": "3.8.6"
  },
  "orig_nbformat": 4
 },
 "nbformat": 4,
 "nbformat_minor": 2
}
